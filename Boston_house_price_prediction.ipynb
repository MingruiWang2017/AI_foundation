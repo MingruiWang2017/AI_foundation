{
 "cells": [
  {
   "cell_type": "markdown",
   "metadata": {},
   "source": [
    "## 波士顿房价预测练习\n",
    "\n",
    "该案例主要内容是进行波士顿数据集，共有13 个特征，总共506 条数据，每条数据包含房屋\n",
    "以及房屋周围的详细信息。其中包含城镇犯罪率，一氧化氮浓度，住宅平均房间数，到中心区\n",
    "域的加权距离以及自住房平均房价等等。具体如下：\n",
    "\n",
    "* CRIM：城镇人均犯罪率。\n",
    "* ZN：住宅用地超过 25000 sq.ft. 的比例。\n",
    "* INDUS：城镇非零售商用土地的比例。\n",
    "* CHAS：查理斯河空变量（如果边界是河流，则为1；否则为0）。\n",
    "* NOX：一氧化氮浓度。\n",
    "* RM：住宅平均房间数。\n",
    "* AGE：1940 年之前建成的自用房屋比例。\n",
    "* DIS：到波士顿五个中心区域的加权距离。\n",
    "* RAD：辐射性公路的接近指数。\n",
    "* TAX：每 10000 美元的全值财产税率。\n",
    "* PTRATIO：城镇师生比例。\n",
    "* B：1000（Bk-0.63）^ 2，其中 Bk 指代城镇中黑人的比例。\n",
    "* LSTAT：人口中地位低下者的比例。\n",
    "* target：自住房的平均房价，以千美元计。\n",
    "\n",
    "框架：Sklearn,框架一方面提供波士顿房价数据，并且提供用于分割数据集，标准化，评价函\n",
    "数,另一方面集成了各类常规机器学习算法；另外我们使用了XGboost,是集成算法中GBDT 的\n",
    "优化版本。"
   ]
  },
  {
   "cell_type": "markdown",
   "metadata": {},
   "source": [
    "### 1. 引入相关的依赖包"
   ]
  },
  {
   "cell_type": "code",
   "execution_count": 1,
   "metadata": {
    "collapsed": true
   },
   "outputs": [],
   "source": [
    "# 防止不必要的警告\n",
    "import warnings\n",
    "warnings.filterwarnings(\"ignore\")\n",
    "\n",
    "# 引入库\n",
    "import numpy as np\n",
    "import matplotlib as mpl\n",
    "import matplotlib.pyplot as plt\n",
    "%matplotlib inline\n",
    "import pandas as pd\n",
    "import scipy.stats as st\n",
    "import seaborn as sns\n",
    "\n",
    "# 设置属性，防止matplotlib图画中文乱码\n",
    "mpl.rcParams['font.sans-serif'] = [u'SimHei']\n",
    "mpl.rcParams['axes.unicode_minus'] = False"
   ]
  },
  {
   "cell_type": "code",
   "execution_count": 2,
   "metadata": {
    "collapsed": true
   },
   "outputs": [],
   "source": [
    "# 引入机器学习库，预处理、模型选择、评价指标\n",
    "from sklearn.preprocessing import StandardScaler\n",
    "from sklearn.model_selection import train_test_split\n",
    "from sklearn.model_selection import GridSearchCV\n",
    "from sklearn.metrics import r2_score"
   ]
  },
  {
   "cell_type": "code",
   "execution_count": 3,
   "metadata": {
    "collapsed": true
   },
   "outputs": [],
   "source": [
    "# 从sklearn库中导入数据\n",
    "from sklearn.datasets import load_boston"
   ]
  },
  {
   "cell_type": "code",
   "execution_count": 4,
   "metadata": {
    "collapsed": true
   },
   "outputs": [],
   "source": [
    "# 引入算法\n",
    "from sklearn.linear_model import RidgeCV, LassoCV,LinearRegression, ElasticNet\n",
    "# 对比SVC(分类形式)，SVR是svm的回归形式\n",
    "from sklearn.svm import SVR\n",
    "\n",
    "# 集成算法(bagging/boosting)\n",
    "from sklearn.ensemble import RandomForestRegressor, GradientBoostingRegressor\n",
    "from xgboost import XGBRegressor"
   ]
  },
  {
   "cell_type": "markdown",
   "metadata": {},
   "source": [
    "### 2.载入数据，查看数据属性，进行可视化"
   ]
  },
  {
   "cell_type": "code",
   "execution_count": 5,
   "metadata": {},
   "outputs": [
    {
     "name": "stdout",
     "output_type": "stream",
     "text": [
      "特征的列名：\n",
      "['CRIM' 'ZN' 'INDUS' 'CHAS' 'NOX' 'RM' 'AGE' 'DIS' 'RAD' 'TAX' 'PTRATIO'\n",
      " 'B' 'LSTAT']\n",
      "样本数据量：506, 特征个数：13\n",
      "target样本数据量：506\n"
     ]
    }
   ],
   "source": [
    "# 载入波士顿房价数据集\n",
    "boston = load_boston()\n",
    "\n",
    "# x是特征，y是标签\n",
    "x = boston.data\n",
    "y = boston.target\n",
    "\n",
    "# 查看相关属性\n",
    "print(\"特征的列名：\")\n",
    "print(boston.feature_names)\n",
    "print(\"样本数据量：%d, 特征个数：%d\" % x.shape)\n",
    "print(\"target样本数据量：%d\" % y.shape[0])"
   ]
  },
  {
   "cell_type": "code",
   "execution_count": 6,
   "metadata": {},
   "outputs": [
    {
     "data": {
      "text/html": [
       "<div>\n",
       "<style scoped>\n",
       "    .dataframe tbody tr th:only-of-type {\n",
       "        vertical-align: middle;\n",
       "    }\n",
       "\n",
       "    .dataframe tbody tr th {\n",
       "        vertical-align: top;\n",
       "    }\n",
       "\n",
       "    .dataframe thead th {\n",
       "        text-align: right;\n",
       "    }\n",
       "</style>\n",
       "<table border=\"1\" class=\"dataframe\">\n",
       "  <thead>\n",
       "    <tr style=\"text-align: right;\">\n",
       "      <th></th>\n",
       "      <th>CRIM</th>\n",
       "      <th>ZN</th>\n",
       "      <th>INDUS</th>\n",
       "      <th>CHAS</th>\n",
       "      <th>NOX</th>\n",
       "      <th>RM</th>\n",
       "      <th>AGE</th>\n",
       "      <th>DIS</th>\n",
       "      <th>RAD</th>\n",
       "      <th>TAX</th>\n",
       "      <th>PTRATIO</th>\n",
       "      <th>B</th>\n",
       "      <th>LSTAT</th>\n",
       "    </tr>\n",
       "  </thead>\n",
       "  <tbody>\n",
       "    <tr>\n",
       "      <th>0</th>\n",
       "      <td>0.00632</td>\n",
       "      <td>18.0</td>\n",
       "      <td>2.31</td>\n",
       "      <td>0.0</td>\n",
       "      <td>0.538</td>\n",
       "      <td>6.575</td>\n",
       "      <td>65.2</td>\n",
       "      <td>4.0900</td>\n",
       "      <td>1.0</td>\n",
       "      <td>296.0</td>\n",
       "      <td>15.3</td>\n",
       "      <td>396.90</td>\n",
       "      <td>4.98</td>\n",
       "    </tr>\n",
       "    <tr>\n",
       "      <th>1</th>\n",
       "      <td>0.02731</td>\n",
       "      <td>0.0</td>\n",
       "      <td>7.07</td>\n",
       "      <td>0.0</td>\n",
       "      <td>0.469</td>\n",
       "      <td>6.421</td>\n",
       "      <td>78.9</td>\n",
       "      <td>4.9671</td>\n",
       "      <td>2.0</td>\n",
       "      <td>242.0</td>\n",
       "      <td>17.8</td>\n",
       "      <td>396.90</td>\n",
       "      <td>9.14</td>\n",
       "    </tr>\n",
       "    <tr>\n",
       "      <th>2</th>\n",
       "      <td>0.02729</td>\n",
       "      <td>0.0</td>\n",
       "      <td>7.07</td>\n",
       "      <td>0.0</td>\n",
       "      <td>0.469</td>\n",
       "      <td>7.185</td>\n",
       "      <td>61.1</td>\n",
       "      <td>4.9671</td>\n",
       "      <td>2.0</td>\n",
       "      <td>242.0</td>\n",
       "      <td>17.8</td>\n",
       "      <td>392.83</td>\n",
       "      <td>4.03</td>\n",
       "    </tr>\n",
       "    <tr>\n",
       "      <th>3</th>\n",
       "      <td>0.03237</td>\n",
       "      <td>0.0</td>\n",
       "      <td>2.18</td>\n",
       "      <td>0.0</td>\n",
       "      <td>0.458</td>\n",
       "      <td>6.998</td>\n",
       "      <td>45.8</td>\n",
       "      <td>6.0622</td>\n",
       "      <td>3.0</td>\n",
       "      <td>222.0</td>\n",
       "      <td>18.7</td>\n",
       "      <td>394.63</td>\n",
       "      <td>2.94</td>\n",
       "    </tr>\n",
       "    <tr>\n",
       "      <th>4</th>\n",
       "      <td>0.06905</td>\n",
       "      <td>0.0</td>\n",
       "      <td>2.18</td>\n",
       "      <td>0.0</td>\n",
       "      <td>0.458</td>\n",
       "      <td>7.147</td>\n",
       "      <td>54.2</td>\n",
       "      <td>6.0622</td>\n",
       "      <td>3.0</td>\n",
       "      <td>222.0</td>\n",
       "      <td>18.7</td>\n",
       "      <td>396.90</td>\n",
       "      <td>5.33</td>\n",
       "    </tr>\n",
       "  </tbody>\n",
       "</table>\n",
       "</div>"
      ],
      "text/plain": [
       "      CRIM    ZN  INDUS  CHAS    NOX     RM   AGE     DIS  RAD    TAX  \\\n",
       "0  0.00632  18.0   2.31   0.0  0.538  6.575  65.2  4.0900  1.0  296.0   \n",
       "1  0.02731   0.0   7.07   0.0  0.469  6.421  78.9  4.9671  2.0  242.0   \n",
       "2  0.02729   0.0   7.07   0.0  0.469  7.185  61.1  4.9671  2.0  242.0   \n",
       "3  0.03237   0.0   2.18   0.0  0.458  6.998  45.8  6.0622  3.0  222.0   \n",
       "4  0.06905   0.0   2.18   0.0  0.458  7.147  54.2  6.0622  3.0  222.0   \n",
       "\n",
       "   PTRATIO       B  LSTAT  \n",
       "0     15.3  396.90   4.98  \n",
       "1     17.8  396.90   9.14  \n",
       "2     17.8  392.83   4.03  \n",
       "3     18.7  394.63   2.94  \n",
       "4     18.7  396.90   5.33  "
      ]
     },
     "execution_count": 6,
     "metadata": {},
     "output_type": "execute_result"
    }
   ],
   "source": [
    "# 将数据转化为dataframe形式\n",
    "x = pd.DataFrame(boston.data, columns=boston.feature_names)\n",
    "x.head()"
   ]
  },
  {
   "cell_type": "code",
   "execution_count": 7,
   "metadata": {},
   "outputs": [
    {
     "data": {
      "text/plain": [
       "<matplotlib.axes._subplots.AxesSubplot at 0xaf274deda0>"
      ]
     },
     "execution_count": 7,
     "metadata": {},
     "output_type": "execute_result"
    },
    {
     "data": {
      "image/png": "[encoded data removed]",
      "text/plain": [
       "<matplotlib.figure.Figure at 0xaf1d851748>"
      ]
     },
     "metadata": {},
     "output_type": "display_data"
    }
   ],
   "source": [
    "# 对标签的分布进行可视化(各价位房价直方图)\n",
    "sns.distplot(tuple(y), kde=False, fit=st.norm)"
   ]
  },
  {
   "cell_type": "code",
   "execution_count": 8,
   "metadata": {},
   "outputs": [
    {
     "data": {
      "text/plain": [
       "<matplotlib.axes._subplots.AxesSubplot at 0xaf2781ae48>"
      ]
     },
     "execution_count": 8,
     "metadata": {},
     "output_type": "execute_result"
    },
    {
     "data": {
      "image/png": "[encoded data removed]",
      "text/plain": [
       "<matplotlib.figure.Figure at 0xaf25f5a940>"
      ]
     },
     "metadata": {},
     "output_type": "display_data"
    }
   ],
   "source": [
    "sns.distplot(list(y))"
   ]
  },
  {
   "cell_type": "markdown",
   "metadata": {},
   "source": [
    "### 3.分割数据集，并对数据进行预处理"
   ]
  },
  {
   "cell_type": "code",
   "execution_count": 9,
   "metadata": {
    "collapsed": true
   },
   "outputs": [],
   "source": [
    "# 数据分割\n",
    "x_train, x_test, y_train, y_test = train_test_split(x, y, test_size=0.2, random_state=28)"
   ]
  },
  {
   "cell_type": "code",
   "execution_count": 10,
   "metadata": {},
   "outputs": [
    {
     "name": "stdout",
     "output_type": "stream",
     "text": [
      "标准化前训练数据统计特性：\n"
     ]
    },
    {
     "data": {
      "text/html": [
       "<div>\n",
       "<style scoped>\n",
       "    .dataframe tbody tr th:only-of-type {\n",
       "        vertical-align: middle;\n",
       "    }\n",
       "\n",
       "    .dataframe tbody tr th {\n",
       "        vertical-align: top;\n",
       "    }\n",
       "\n",
       "    .dataframe thead th {\n",
       "        text-align: right;\n",
       "    }\n",
       "</style>\n",
       "<table border=\"1\" class=\"dataframe\">\n",
       "  <thead>\n",
       "    <tr style=\"text-align: right;\">\n",
       "      <th></th>\n",
       "      <th>CRIM</th>\n",
       "      <th>ZN</th>\n",
       "      <th>INDUS</th>\n",
       "      <th>CHAS</th>\n",
       "      <th>NOX</th>\n",
       "      <th>RM</th>\n",
       "      <th>AGE</th>\n",
       "      <th>DIS</th>\n",
       "      <th>RAD</th>\n",
       "      <th>TAX</th>\n",
       "      <th>PTRATIO</th>\n",
       "      <th>B</th>\n",
       "      <th>LSTAT</th>\n",
       "    </tr>\n",
       "  </thead>\n",
       "  <tbody>\n",
       "    <tr>\n",
       "      <th>count</th>\n",
       "      <td>404.000000</td>\n",
       "      <td>404.000000</td>\n",
       "      <td>404.000000</td>\n",
       "      <td>404.000000</td>\n",
       "      <td>404.000000</td>\n",
       "      <td>404.000000</td>\n",
       "      <td>404.000000</td>\n",
       "      <td>404.000000</td>\n",
       "      <td>404.000000</td>\n",
       "      <td>404.000000</td>\n",
       "      <td>404.000000</td>\n",
       "      <td>404.000000</td>\n",
       "      <td>404.000000</td>\n",
       "    </tr>\n",
       "    <tr>\n",
       "      <th>mean</th>\n",
       "      <td>3.605338</td>\n",
       "      <td>12.002475</td>\n",
       "      <td>10.976832</td>\n",
       "      <td>0.071782</td>\n",
       "      <td>0.553789</td>\n",
       "      <td>6.305181</td>\n",
       "      <td>67.968564</td>\n",
       "      <td>3.808974</td>\n",
       "      <td>9.368812</td>\n",
       "      <td>405.584158</td>\n",
       "      <td>18.425990</td>\n",
       "      <td>357.029158</td>\n",
       "      <td>12.430866</td>\n",
       "    </tr>\n",
       "    <tr>\n",
       "      <th>std</th>\n",
       "      <td>9.047002</td>\n",
       "      <td>24.275686</td>\n",
       "      <td>6.870632</td>\n",
       "      <td>0.258447</td>\n",
       "      <td>0.115226</td>\n",
       "      <td>0.704740</td>\n",
       "      <td>28.461914</td>\n",
       "      <td>2.137553</td>\n",
       "      <td>8.623651</td>\n",
       "      <td>168.079741</td>\n",
       "      <td>2.189257</td>\n",
       "      <td>90.910905</td>\n",
       "      <td>7.112149</td>\n",
       "    </tr>\n",
       "    <tr>\n",
       "      <th>min</th>\n",
       "      <td>0.006320</td>\n",
       "      <td>0.000000</td>\n",
       "      <td>0.460000</td>\n",
       "      <td>0.000000</td>\n",
       "      <td>0.385000</td>\n",
       "      <td>3.863000</td>\n",
       "      <td>2.900000</td>\n",
       "      <td>1.129600</td>\n",
       "      <td>1.000000</td>\n",
       "      <td>187.000000</td>\n",
       "      <td>12.600000</td>\n",
       "      <td>0.320000</td>\n",
       "      <td>1.730000</td>\n",
       "    </tr>\n",
       "    <tr>\n",
       "      <th>25%</th>\n",
       "      <td>0.081437</td>\n",
       "      <td>0.000000</td>\n",
       "      <td>5.130000</td>\n",
       "      <td>0.000000</td>\n",
       "      <td>0.448750</td>\n",
       "      <td>5.886500</td>\n",
       "      <td>42.550000</td>\n",
       "      <td>2.110500</td>\n",
       "      <td>4.000000</td>\n",
       "      <td>277.000000</td>\n",
       "      <td>17.400000</td>\n",
       "      <td>375.782500</td>\n",
       "      <td>6.672500</td>\n",
       "    </tr>\n",
       "    <tr>\n",
       "      <th>50%</th>\n",
       "      <td>0.252775</td>\n",
       "      <td>0.000000</td>\n",
       "      <td>9.690000</td>\n",
       "      <td>0.000000</td>\n",
       "      <td>0.538000</td>\n",
       "      <td>6.229000</td>\n",
       "      <td>77.000000</td>\n",
       "      <td>3.175750</td>\n",
       "      <td>5.000000</td>\n",
       "      <td>330.000000</td>\n",
       "      <td>19.000000</td>\n",
       "      <td>391.250000</td>\n",
       "      <td>10.920000</td>\n",
       "    </tr>\n",
       "    <tr>\n",
       "      <th>75%</th>\n",
       "      <td>2.789400</td>\n",
       "      <td>18.500000</td>\n",
       "      <td>18.100000</td>\n",
       "      <td>0.000000</td>\n",
       "      <td>0.624000</td>\n",
       "      <td>6.636750</td>\n",
       "      <td>93.800000</td>\n",
       "      <td>5.116700</td>\n",
       "      <td>24.000000</td>\n",
       "      <td>666.000000</td>\n",
       "      <td>20.200000</td>\n",
       "      <td>395.962500</td>\n",
       "      <td>16.672500</td>\n",
       "    </tr>\n",
       "    <tr>\n",
       "      <th>max</th>\n",
       "      <td>88.976200</td>\n",
       "      <td>100.000000</td>\n",
       "      <td>27.740000</td>\n",
       "      <td>1.000000</td>\n",
       "      <td>0.871000</td>\n",
       "      <td>8.725000</td>\n",
       "      <td>100.000000</td>\n",
       "      <td>12.126500</td>\n",
       "      <td>24.000000</td>\n",
       "      <td>711.000000</td>\n",
       "      <td>22.000000</td>\n",
       "      <td>396.900000</td>\n",
       "      <td>37.970000</td>\n",
       "    </tr>\n",
       "  </tbody>\n",
       "</table>\n",
       "</div>"
      ],
      "text/plain": [
       "             CRIM          ZN       INDUS        CHAS         NOX          RM  \\\n",
       "count  404.000000  404.000000  404.000000  404.000000  404.000000  404.000000   \n",
       "mean     3.605338   12.002475   10.976832    0.071782    0.553789    6.305181   \n",
       "std      9.047002   24.275686    6.870632    0.258447    0.115226    0.704740   \n",
       "min      0.006320    0.000000    0.460000    0.000000    0.385000    3.863000   \n",
       "25%      0.081437    0.000000    5.130000    0.000000    0.448750    5.886500   \n",
       "50%      0.252775    0.000000    9.690000    0.000000    0.538000    6.229000   \n",
       "75%      2.789400   18.500000   18.100000    0.000000    0.624000    6.636750   \n",
       "max     88.976200  100.000000   27.740000    1.000000    0.871000    8.725000   \n",
       "\n",
       "              AGE         DIS         RAD         TAX     PTRATIO           B  \\\n",
       "count  404.000000  404.000000  404.000000  404.000000  404.000000  404.000000   \n",
       "mean    67.968564    3.808974    9.368812  405.584158   18.425990  357.029158   \n",
       "std     28.461914    2.137553    8.623651  168.079741    2.189257   90.910905   \n",
       "min      2.900000    1.129600    1.000000  187.000000   12.600000    0.320000   \n",
       "25%     42.550000    2.110500    4.000000  277.000000   17.400000  375.782500   \n",
       "50%     77.000000    3.175750    5.000000  330.000000   19.000000  391.250000   \n",
       "75%     93.800000    5.116700   24.000000  666.000000   20.200000  395.962500   \n",
       "max    100.000000   12.126500   24.000000  711.000000   22.000000  396.900000   \n",
       "\n",
       "            LSTAT  \n",
       "count  404.000000  \n",
       "mean    12.430866  \n",
       "std      7.112149  \n",
       "min      1.730000  \n",
       "25%      6.672500  \n",
       "50%     10.920000  \n",
       "75%     16.672500  \n",
       "max     37.970000  "
      ]
     },
     "execution_count": 10,
     "metadata": {},
     "output_type": "execute_result"
    }
   ],
   "source": [
    "# 标准化前的数据统计特性\n",
    "print('标准化前训练数据统计特性：')\n",
    "x_train.describe()"
   ]
  },
  {
   "cell_type": "code",
   "execution_count": 11,
   "metadata": {},
   "outputs": [
    {
     "name": "stdout",
     "output_type": "stream",
     "text": [
      "标准化后训练数据的统计特性：\n"
     ]
    },
    {
     "data": {
      "text/html": [
       "<div>\n",
       "<style scoped>\n",
       "    .dataframe tbody tr th:only-of-type {\n",
       "        vertical-align: middle;\n",
       "    }\n",
       "\n",
       "    .dataframe tbody tr th {\n",
       "        vertical-align: top;\n",
       "    }\n",
       "\n",
       "    .dataframe thead th {\n",
       "        text-align: right;\n",
       "    }\n",
       "</style>\n",
       "<table border=\"1\" class=\"dataframe\">\n",
       "  <thead>\n",
       "    <tr style=\"text-align: right;\">\n",
       "      <th></th>\n",
       "      <th>CRIM</th>\n",
       "      <th>ZN</th>\n",
       "      <th>INDUS</th>\n",
       "      <th>CHAS</th>\n",
       "      <th>NOX</th>\n",
       "      <th>RM</th>\n",
       "      <th>AGE</th>\n",
       "      <th>DIS</th>\n",
       "      <th>RAD</th>\n",
       "      <th>TAX</th>\n",
       "      <th>PTRATIO</th>\n",
       "      <th>B</th>\n",
       "      <th>LSTAT</th>\n",
       "    </tr>\n",
       "  </thead>\n",
       "  <tbody>\n",
       "    <tr>\n",
       "      <th>count</th>\n",
       "      <td>4.040000e+02</td>\n",
       "      <td>4.040000e+02</td>\n",
       "      <td>4.040000e+02</td>\n",
       "      <td>4.040000e+02</td>\n",
       "      <td>4.040000e+02</td>\n",
       "      <td>4.040000e+02</td>\n",
       "      <td>4.040000e+02</td>\n",
       "      <td>4.040000e+02</td>\n",
       "      <td>4.040000e+02</td>\n",
       "      <td>4.040000e+02</td>\n",
       "      <td>4.040000e+02</td>\n",
       "      <td>4.040000e+02</td>\n",
       "      <td>4.040000e+02</td>\n",
       "    </tr>\n",
       "    <tr>\n",
       "      <th>mean</th>\n",
       "      <td>-1.519623e-08</td>\n",
       "      <td>-1.012099e-07</td>\n",
       "      <td>5.163769e-08</td>\n",
       "      <td>-2.143702e-07</td>\n",
       "      <td>-6.934204e-09</td>\n",
       "      <td>-1.121276e-08</td>\n",
       "      <td>2.183537e-08</td>\n",
       "      <td>-2.316319e-08</td>\n",
       "      <td>7.376812e-09</td>\n",
       "      <td>1.888464e-08</td>\n",
       "      <td>6.491595e-09</td>\n",
       "      <td>-2.139276e-09</td>\n",
       "      <td>3.540870e-09</td>\n",
       "    </tr>\n",
       "    <tr>\n",
       "      <th>std</th>\n",
       "      <td>1.001240e+00</td>\n",
       "      <td>1.001239e+00</td>\n",
       "      <td>1.001240e+00</td>\n",
       "      <td>1.001239e+00</td>\n",
       "      <td>1.001240e+00</td>\n",
       "      <td>1.001240e+00</td>\n",
       "      <td>1.001240e+00</td>\n",
       "      <td>1.001240e+00</td>\n",
       "      <td>1.001240e+00</td>\n",
       "      <td>1.001240e+00</td>\n",
       "      <td>1.001240e+00</td>\n",
       "      <td>1.001240e+00</td>\n",
       "      <td>1.001240e+00</td>\n",
       "    </tr>\n",
       "    <tr>\n",
       "      <th>min</th>\n",
       "      <td>-3.983066e-01</td>\n",
       "      <td>-4.950368e-01</td>\n",
       "      <td>-1.532591e+00</td>\n",
       "      <td>-2.780887e-01</td>\n",
       "      <td>-1.466672e+00</td>\n",
       "      <td>-3.469662e+00</td>\n",
       "      <td>-2.288997e+00</td>\n",
       "      <td>-1.255031e+00</td>\n",
       "      <td>-9.716520e-01</td>\n",
       "      <td>-1.302091e+00</td>\n",
       "      <td>-2.664472e+00</td>\n",
       "      <td>-3.928588e+00</td>\n",
       "      <td>-1.506455e+00</td>\n",
       "    </tr>\n",
       "    <tr>\n",
       "      <th>25%</th>\n",
       "      <td>-3.899933e-01</td>\n",
       "      <td>-4.950368e-01</td>\n",
       "      <td>-8.520441e-01</td>\n",
       "      <td>-2.780887e-01</td>\n",
       "      <td>-9.127240e-01</td>\n",
       "      <td>-5.948293e-01</td>\n",
       "      <td>-8.941803e-01</td>\n",
       "      <td>-7.955731e-01</td>\n",
       "      <td>-6.233402e-01</td>\n",
       "      <td>-7.659674e-01</td>\n",
       "      <td>-4.692287e-01</td>\n",
       "      <td>2.065384e-01</td>\n",
       "      <td>-8.106560e-01</td>\n",
       "    </tr>\n",
       "    <tr>\n",
       "      <th>50%</th>\n",
       "      <td>-3.710312e-01</td>\n",
       "      <td>-4.950368e-01</td>\n",
       "      <td>-1.875267e-01</td>\n",
       "      <td>-2.780887e-01</td>\n",
       "      <td>-1.371975e-01</td>\n",
       "      <td>-1.082317e-01</td>\n",
       "      <td>3.177100e-01</td>\n",
       "      <td>-2.966051e-01</td>\n",
       "      <td>-5.072363e-01</td>\n",
       "      <td>-4.502499e-01</td>\n",
       "      <td>2.625190e-01</td>\n",
       "      <td>3.768885e-01</td>\n",
       "      <td>-2.126980e-01</td>\n",
       "    </tr>\n",
       "    <tr>\n",
       "      <th>75%</th>\n",
       "      <td>-9.030062e-02</td>\n",
       "      <td>2.679875e-01</td>\n",
       "      <td>1.038041e+00</td>\n",
       "      <td>-2.780887e-01</td>\n",
       "      <td>6.100886e-01</td>\n",
       "      <td>4.710682e-01</td>\n",
       "      <td>9.087043e-01</td>\n",
       "      <td>6.125450e-01</td>\n",
       "      <td>1.698739e+00</td>\n",
       "      <td>1.551280e+00</td>\n",
       "      <td>8.113298e-01</td>\n",
       "      <td>4.287892e-01</td>\n",
       "      <td>5.971322e-01</td>\n",
       "    </tr>\n",
       "    <tr>\n",
       "      <th>max</th>\n",
       "      <td>9.448071e+00</td>\n",
       "      <td>3.629419e+00</td>\n",
       "      <td>2.442854e+00</td>\n",
       "      <td>3.595975e+00</td>\n",
       "      <td>2.756364e+00</td>\n",
       "      <td>3.437893e+00</td>\n",
       "      <td>1.126809e+00</td>\n",
       "      <td>3.895968e+00</td>\n",
       "      <td>1.698739e+00</td>\n",
       "      <td>1.819342e+00</td>\n",
       "      <td>1.634546e+00</td>\n",
       "      <td>4.391143e-01</td>\n",
       "      <td>3.595369e+00</td>\n",
       "    </tr>\n",
       "  </tbody>\n",
       "</table>\n",
       "</div>"
      ],
      "text/plain": [
       "               CRIM            ZN         INDUS          CHAS           NOX  \\\n",
       "count  4.040000e+02  4.040000e+02  4.040000e+02  4.040000e+02  4.040000e+02   \n",
       "mean  -1.519623e-08 -1.012099e-07  5.163769e-08 -2.143702e-07 -6.934204e-09   \n",
       "std    1.001240e+00  1.001239e+00  1.001240e+00  1.001239e+00  1.001240e+00   \n",
       "min   -3.983066e-01 -4.950368e-01 -1.532591e+00 -2.780887e-01 -1.466672e+00   \n",
       "25%   -3.899933e-01 -4.950368e-01 -8.520441e-01 -2.780887e-01 -9.127240e-01   \n",
       "50%   -3.710312e-01 -4.950368e-01 -1.875267e-01 -2.780887e-01 -1.371975e-01   \n",
       "75%   -9.030062e-02  2.679875e-01  1.038041e+00 -2.780887e-01  6.100886e-01   \n",
       "max    9.448071e+00  3.629419e+00  2.442854e+00  3.595975e+00  2.756364e+00   \n",
       "\n",
       "                 RM           AGE           DIS           RAD           TAX  \\\n",
       "count  4.040000e+02  4.040000e+02  4.040000e+02  4.040000e+02  4.040000e+02   \n",
       "mean  -1.121276e-08  2.183537e-08 -2.316319e-08  7.376812e-09  1.888464e-08   \n",
       "std    1.001240e+00  1.001240e+00  1.001240e+00  1.001240e+00  1.001240e+00   \n",
       "min   -3.469662e+00 -2.288997e+00 -1.255031e+00 -9.716520e-01 -1.302091e+00   \n",
       "25%   -5.948293e-01 -8.941803e-01 -7.955731e-01 -6.233402e-01 -7.659674e-01   \n",
       "50%   -1.082317e-01  3.177100e-01 -2.966051e-01 -5.072363e-01 -4.502499e-01   \n",
       "75%    4.710682e-01  9.087043e-01  6.125450e-01  1.698739e+00  1.551280e+00   \n",
       "max    3.437893e+00  1.126809e+00  3.895968e+00  1.698739e+00  1.819342e+00   \n",
       "\n",
       "            PTRATIO             B         LSTAT  \n",
       "count  4.040000e+02  4.040000e+02  4.040000e+02  \n",
       "mean   6.491595e-09 -2.139276e-09  3.540870e-09  \n",
       "std    1.001240e+00  1.001240e+00  1.001240e+00  \n",
       "min   -2.664472e+00 -3.928588e+00 -1.506455e+00  \n",
       "25%   -4.692287e-01  2.065384e-01 -8.106560e-01  \n",
       "50%    2.625190e-01  3.768885e-01 -2.126980e-01  \n",
       "75%    8.113298e-01  4.287892e-01  5.971322e-01  \n",
       "max    1.634546e+00  4.391143e-01  3.595369e+00  "
      ]
     },
     "execution_count": 11,
     "metadata": {},
     "output_type": "execute_result"
    }
   ],
   "source": [
    "# 标准化数据集, 使数据符合标准正态分布，均值为0，方差为1\n",
    "ss = StandardScaler()\n",
    "x_train = ss.fit_transform(x_train)\n",
    "x_test = ss.transform(x_test)\n",
    "print('标准化后训练数据的统计特性：')\n",
    "ss_x_train = pd.DataFrame(x_train,dtype=np.float32, columns=boston.feature_names)\n",
    "ss_x_train.describe()"
   ]
  },
  {
   "cell_type": "markdown",
   "metadata": {},
   "source": [
    "### 4.利用各类回归模型，对数据集进行建模"
   ]
  },
  {
   "cell_type": "code",
   "execution_count": 12,
   "metadata": {},
   "outputs": [
    {
     "name": "stdout",
     "output_type": "stream",
     "text": [
      "LinerRegression:0.564144, 0.0000\n",
      "Ridge:0.563700, 0.0000\n",
      "Lasso:0.564078, 0.0000\n",
      "Random Forest:0.699449, 0.0000\n",
      "GBDT:0.733346, 0.0000\n",
      "Support Vector Regression:0.517310, 0.0000\n",
      "ElasticNet:0.564021, 0.0000\n",
      "XbBoost:0.753356, 0.0000\n"
     ]
    }
   ],
   "source": [
    "# 模型的名字\n",
    "names = [\n",
    "    'LinerRegression',\n",
    "    'Ridge',\n",
    "    'Lasso',\n",
    "    'Random Forest',\n",
    "    'GBDT',\n",
    "    'Support Vector Regression',\n",
    "    'ElasticNet',\n",
    "    'XbBoost'\n",
    "]\n",
    "# 定义模型\n",
    "# cv在这里是交叉验证的思想\n",
    "models = [\n",
    "    LinearRegression(),\n",
    "    RidgeCV(alphas=(0.001, 0.1, 1), cv=3),\n",
    "    LassoCV(alphas=(0.001, 0.1, 1), cv=5),\n",
    "    RandomForestRegressor(n_estimators=10),\n",
    "    GradientBoostingRegressor(n_estimators=30),\n",
    "    SVR(),\n",
    "    ElasticNet(alpha=0.001, max_iter=10000),\n",
    "    XGBRegressor()\n",
    "]\n",
    "\n",
    "# 输出所有模型的R2评分\n",
    "# 定义R2 评分函数\n",
    "def R2(model, x_train, x_test, y_train, y_test):\n",
    "    model_fitted = model.fit(x_train, y_train)\n",
    "    y_pred = model_fitted.predict(x_test)\n",
    "    score = r2_score(y_test, y_pred)\n",
    "    return score\n",
    "\n",
    "# 便利模型进行评分\n",
    "for name, model in zip(names, models):\n",
    "    score = R2(model, x_train, x_test, y_train,y_test)\n",
    "    print(\"{}:{:.6f}, {:.4f}\".format(name, score.mean(), score.std()))"
   ]
  },
  {
   "cell_type": "markdown",
   "metadata": {},
   "source": [
    "### 5.利用网格搜索对超参数进行调节"
   ]
  },
  {
   "cell_type": "code",
   "execution_count": 13,
   "metadata": {},
   "outputs": [
    {
     "data": {
      "text/plain": [
       "GridSearchCV(cv=3, error_score='raise',\n",
       "       estimator=SVR(C=1.0, cache_size=200, coef0=0.0, degree=3, epsilon=0.1, gamma='auto',\n",
       "  kernel='rbf', max_iter=-1, shrinking=True, tol=0.001, verbose=False),\n",
       "       fit_params=None, iid=True, n_jobs=1,\n",
       "       param_grid={'kernel': ['linear', 'rbf'], 'C': [0.1, 0.5, 0.9, 1, 5], 'gamma': [0.001, 0.01, 0.1, 1]},\n",
       "       pre_dispatch='2*n_jobs', refit=True, return_train_score=True,\n",
       "       scoring=None, verbose=0)"
      ]
     },
     "execution_count": 13,
     "metadata": {},
     "output_type": "execute_result"
    }
   ],
   "source": [
    "# 模型构建\n",
    "'''\n",
    "'kernel': 核函数,\n",
    "'C': SVR的正则化因子，\n",
    "'gamma': 'rbf', 'ploy'and 'sigmoid'核函数的系数，影响模型性能\n",
    "'''\n",
    "\n",
    "parameters = {\n",
    "    'kernel': ['linear', 'rbf'],\n",
    "    'C': [0.1, 0.5, 0.9, 1, 5],\n",
    "    'gamma': [0.001, 0.01, 0.1, 1]\n",
    "}\n",
    "\n",
    "# 使用网格搜索，以及交叉验证\n",
    "model = GridSearchCV(SVR(), param_grid=parameters, cv=3)\n",
    "model.fit(x_train, y_train)\n"
   ]
  },
  {
   "cell_type": "code",
   "execution_count": 14,
   "metadata": {},
   "outputs": [
    {
     "name": "stdout",
     "output_type": "stream",
     "text": [
      "最优参数列表： {'C': 5, 'gamma': 0.1, 'kernel': 'rbf'}\n",
      "最优模型： SVR(C=5, cache_size=200, coef0=0.0, degree=3, epsilon=0.1, gamma=0.1,\n",
      "  kernel='rbf', max_iter=-1, shrinking=True, tol=0.001, verbose=False)\n",
      "最优R2值： 0.797481706635\n"
     ]
    }
   ],
   "source": [
    "# 获取最优参数列表\n",
    "print('最优参数列表：', model.best_params_)\n",
    "print('最优模型：', model.best_estimator_)\n",
    "print('最优R2值：', model.best_score_)"
   ]
  },
  {
   "cell_type": "code",
   "execution_count": 15,
   "metadata": {},
   "outputs": [
    {
     "data": {
      "image/png": "[encoded data removed]",
      "text/plain": [
       "<matplotlib.figure.Figure at 0xaf27863470>"
      ]
     },
     "metadata": {},
     "output_type": "display_data"
    }
   ],
   "source": [
    "# 可视化\n",
    "ln_x_test = range(len(x_test))\n",
    "y_predict = model.predict(x_test)\n",
    "\n",
    "# 设置画布\n",
    "plt.figure(figsize=(16,8), facecolor='w')\n",
    "# 用红实线画真实房价曲线\n",
    "plt.plot(ln_x_test, y_test, 'r-',lw=2, label='真实值')\n",
    "# 用绿虚线画预测值\n",
    "plt.plot(ln_x_test, y_predict, 'g--', lw=3, label='SVR算法估计值, $R^2$=%.3f' % model.best_score_)\n",
    "\n",
    "# 显示图形\n",
    "plt.legend(loc='upper right')\n",
    "plt.grid(True)\n",
    "plt.title('波士顿房价预测（SVM）')\n",
    "plt.xlim(0, 101)\n",
    "plt.show()"
   ]
  },
  {
   "cell_type": "code",
   "execution_count": null,
   "metadata": {
    "collapsed": true
   },
   "outputs": [],
   "source": []
  }
 ],
 "metadata": {
  "kernelspec": {
   "display_name": "Python 3",
   "language": "python",
   "name": "python3"
  },
  "language_info": {
   "codemirror_mode": {
    "name": "ipython",
    "version": 3
   },
   "file_extension": ".py",
   "mimetype": "text/x-python",
   "name": "python",
   "nbconvert_exporter": "python",
   "pygments_lexer": "ipython3",
   "version": "3.6.3"
  }
 },
 "nbformat": 4,
 "nbformat_minor": 2
}
